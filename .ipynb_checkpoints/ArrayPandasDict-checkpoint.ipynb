{
 "cells": [
  {
   "cell_type": "code",
   "execution_count": 3,
   "id": "7150d2a8-1aeb-47a0-9682-c648bedbba9a",
   "metadata": {},
   "outputs": [
    {
     "name": "stdout",
     "output_type": "stream",
     "text": [
      "Requirement already satisfied: pandas in ./data/lib/python3.10/site-packages (2.2.1)\n",
      "Requirement already satisfied: numpy<2,>=1.22.4 in ./data/lib/python3.10/site-packages (from pandas) (1.26.4)\n",
      "Requirement already satisfied: python-dateutil>=2.8.2 in ./data/lib/python3.10/site-packages (from pandas) (2.9.0.post0)\n",
      "Requirement already satisfied: pytz>=2020.1 in ./data/lib/python3.10/site-packages (from pandas) (2024.1)\n",
      "Requirement already satisfied: tzdata>=2022.7 in ./data/lib/python3.10/site-packages (from pandas) (2024.1)\n",
      "Requirement already satisfied: six>=1.5 in ./data/lib/python3.10/site-packages (from python-dateutil>=2.8.2->pandas) (1.16.0)\n",
      "Note: you may need to restart the kernel to use updated packages.\n"
     ]
    }
   ],
   "source": [
    "pip install pandas"
   ]
  },
  {
   "cell_type": "code",
   "execution_count": 2,
   "id": "af63e6b8-6598-4e33-8126-281a6ef0db73",
   "metadata": {},
   "outputs": [],
   "source": [
    "import pandas as panda\n",
    "import numpy as np\n"
   ]
  },
  {
   "cell_type": "code",
   "execution_count": 7,
   "id": "8e4f6de3-6389-48b2-9576-c56071649b99",
   "metadata": {},
   "outputs": [],
   "source": [
    "values = np.array([1, 4, 7, 8, 5])\n",
    "value = panda.Series(values)"
   ]
  },
  {
   "cell_type": "code",
   "execution_count": 8,
   "id": "e3dc2a83-9d72-4b24-812b-f3c6b08cec2b",
   "metadata": {},
   "outputs": [
    {
     "data": {
      "text/plain": [
       "0    1\n",
       "1    4\n",
       "2    7\n",
       "3    8\n",
       "4    5\n",
       "dtype: int64"
      ]
     },
     "execution_count": 8,
     "metadata": {},
     "output_type": "execute_result"
    }
   ],
   "source": [
    "value"
   ]
  },
  {
   "cell_type": "code",
   "execution_count": 9,
   "id": "a4bd1d18-d0d2-47a8-9f55-3b1d65e09a96",
   "metadata": {},
   "outputs": [
    {
     "data": {
      "text/plain": [
       "array([1, 4, 7, 8, 5])"
      ]
     },
     "execution_count": 9,
     "metadata": {},
     "output_type": "execute_result"
    }
   ],
   "source": [
    "values"
   ]
  },
  {
   "cell_type": "code",
   "execution_count": 12,
   "id": "91c0e5de-3988-4192-8df8-985e86e07091",
   "metadata": {},
   "outputs": [],
   "source": [
    "dic = {\"name\" : \"moyin\",\n",
    "        \"color\" : \"blue\",\n",
    "        \"religion\" : \"christian\",\n",
    "        \"gender\" : \"female\"}\n",
    "dict = panda.Series(dic)"
   ]
  },
  {
   "cell_type": "code",
   "execution_count": 13,
   "id": "9c79e89f-eb2c-4ba4-9ddd-e71c434931b2",
   "metadata": {},
   "outputs": [
    {
     "data": {
      "text/plain": [
       "name            moyin\n",
       "color            blue\n",
       "religion    christian\n",
       "gender         female\n",
       "dtype: object"
      ]
     },
     "execution_count": 13,
     "metadata": {},
     "output_type": "execute_result"
    }
   ],
   "source": [
    "dict"
   ]
  },
  {
   "cell_type": "code",
   "execution_count": 16,
   "id": "65e97206-999a-4756-a576-89f8774d3b5c",
   "metadata": {},
   "outputs": [],
   "source": [
    "sub = np.array([\"Mathematics\", \"Chemistry\", \"Physics\", \"History\"])\n",
    "grades = np.array([40, 20, 100, 49])\n",
    "sub_grade = panda.Series(grades, index=sub)\n"
   ]
  },
  {
   "cell_type": "code",
   "execution_count": 21,
   "id": "6f35fe7d-3614-4bfa-b6b2-b2efb9b2d63d",
   "metadata": {},
   "outputs": [
    {
     "data": {
      "text/plain": [
       "Mathematics     40\n",
       "Chemistry       20\n",
       "Physics        100\n",
       "History         49\n",
       "dtype: int64"
      ]
     },
     "execution_count": 21,
     "metadata": {},
     "output_type": "execute_result"
    }
   ],
   "source": [
    "sub_grade"
   ]
  },
  {
   "cell_type": "code",
   "execution_count": 32,
   "id": "ce845d2f-2d3a-431b-ba6d-35d50329b371",
   "metadata": {},
   "outputs": [
    {
     "data": {
      "text/plain": [
       "Isaac          78\n",
       "Moyinoluwa    100\n",
       "Kevin          90\n",
       "dtype: object"
      ]
     },
     "execution_count": 32,
     "metadata": {},
     "output_type": "execute_result"
    }
   ],
   "source": [
    "mathematics = {\"Isaac\" : 78, \"Moyinoluwa\" : 100, \"Kevin\" : 90, \"Grace\" : \"95\"}\n",
    "Grades = panda.Series(mathematics)\n",
    "Grades[0:3]"
   ]
  },
  {
   "cell_type": "code",
   "execution_count": 27,
   "id": "eb79d84c-2b89-4c40-b7f7-6f0e16215a9c",
   "metadata": {},
   "outputs": [],
   "source": [
    "mathematics_grades = panda.Series(mathematics, index=Grades)"
   ]
  },
  {
   "cell_type": "code",
   "execution_count": 39,
   "id": "c0f390e9-9309-4898-a530-c0b9755834d9",
   "metadata": {},
   "outputs": [],
   "source": [
    "data = [['Alex', 10],['Bob',12], ['Clarke', 13]]\n",
    "df = panda.DataFrame(data, columns = ['Name', 'Age'])"
   ]
  },
  {
   "cell_type": "code",
   "execution_count": 37,
   "id": "b2d079b7-2deb-4b6f-aeda-4d19cc72c76b",
   "metadata": {},
   "outputs": [
    {
     "data": {
      "text/html": [
       "<div>\n",
       "<style scoped>\n",
       "    .dataframe tbody tr th:only-of-type {\n",
       "        vertical-align: middle;\n",
       "    }\n",
       "\n",
       "    .dataframe tbody tr th {\n",
       "        vertical-align: top;\n",
       "    }\n",
       "\n",
       "    .dataframe thead th {\n",
       "        text-align: right;\n",
       "    }\n",
       "</style>\n",
       "<table border=\"1\" class=\"dataframe\">\n",
       "  <thead>\n",
       "    <tr style=\"text-align: right;\">\n",
       "      <th></th>\n",
       "      <th>Name</th>\n",
       "      <th>Age</th>\n",
       "    </tr>\n",
       "  </thead>\n",
       "  <tbody>\n",
       "    <tr>\n",
       "      <th>0</th>\n",
       "      <td>Alex</td>\n",
       "      <td>10</td>\n",
       "    </tr>\n",
       "    <tr>\n",
       "      <th>1</th>\n",
       "      <td>Bob</td>\n",
       "      <td>12</td>\n",
       "    </tr>\n",
       "    <tr>\n",
       "      <th>2</th>\n",
       "      <td>Clarke</td>\n",
       "      <td>13</td>\n",
       "    </tr>\n",
       "  </tbody>\n",
       "</table>\n",
       "</div>"
      ],
      "text/plain": [
       "     Name  Age\n",
       "0    Alex   10\n",
       "1     Bob   12\n",
       "2  Clarke   13"
      ]
     },
     "execution_count": 37,
     "metadata": {},
     "output_type": "execute_result"
    }
   ],
   "source": [
    "df"
   ]
  },
  {
   "cell_type": "code",
   "execution_count": 56,
   "id": "19d75718-3d71-4053-8e81-6d483fc7d5c7",
   "metadata": {},
   "outputs": [],
   "source": [
    "frame = [\n",
    "         ['Name', 'Moyo'], ['Subject', 'Mathe'], ['Gender', 'Female'], ['Score', '90'], ['Exam_Type', 'Theory'],\n",
    "         ['Name', 'Moyin'], ['Subject', 'English'], ['Gender', 'Male'], ['Score', '70'], ['Exam_Type', 'Pratical'],\n",
    "         ['Name', 'Mofe'], ['Subject', 'Chemistry'], ['Gender', 'Male'], ['Score', '20'], ['Exam_Type', 'Pratical'],\n",
    "         ['Name', 'Mope'], ['Subject', 'Physics'], ['Gender', 'Female'], ['Score', '840'], ['Exam_Type', 'Option'],\n",
    "         ['Name', 'Mosun'], ['Subject', 'History'], ['Gender', 'Female'], ['Score', '100'], ['Exam_Type', 'Option'],\n",
    "        ]\n",
    "dataF = panda.DataFrame(frame, columns = ['Score', 'Exam_Type'])"
   ]
  },
  {
   "cell_type": "code",
   "execution_count": 57,
   "id": "aa0fc3e1-e153-464a-9ad5-45a6e163bd07",
   "metadata": {},
   "outputs": [
    {
     "data": {
      "text/html": [
       "<div>\n",
       "<style scoped>\n",
       "    .dataframe tbody tr th:only-of-type {\n",
       "        vertical-align: middle;\n",
       "    }\n",
       "\n",
       "    .dataframe tbody tr th {\n",
       "        vertical-align: top;\n",
       "    }\n",
       "\n",
       "    .dataframe thead th {\n",
       "        text-align: right;\n",
       "    }\n",
       "</style>\n",
       "<table border=\"1\" class=\"dataframe\">\n",
       "  <thead>\n",
       "    <tr style=\"text-align: right;\">\n",
       "      <th></th>\n",
       "      <th>Score</th>\n",
       "      <th>Exam_Type</th>\n",
       "    </tr>\n",
       "  </thead>\n",
       "  <tbody>\n",
       "    <tr>\n",
       "      <th>0</th>\n",
       "      <td>Name</td>\n",
       "      <td>Moyo</td>\n",
       "    </tr>\n",
       "    <tr>\n",
       "      <th>1</th>\n",
       "      <td>Subject</td>\n",
       "      <td>Mathe</td>\n",
       "    </tr>\n",
       "    <tr>\n",
       "      <th>2</th>\n",
       "      <td>Gender</td>\n",
       "      <td>Female</td>\n",
       "    </tr>\n",
       "    <tr>\n",
       "      <th>3</th>\n",
       "      <td>Score</td>\n",
       "      <td>90</td>\n",
       "    </tr>\n",
       "    <tr>\n",
       "      <th>4</th>\n",
       "      <td>Exam_Type</td>\n",
       "      <td>Theory</td>\n",
       "    </tr>\n",
       "    <tr>\n",
       "      <th>5</th>\n",
       "      <td>Name</td>\n",
       "      <td>Moyin</td>\n",
       "    </tr>\n",
       "    <tr>\n",
       "      <th>6</th>\n",
       "      <td>Subject</td>\n",
       "      <td>English</td>\n",
       "    </tr>\n",
       "    <tr>\n",
       "      <th>7</th>\n",
       "      <td>Gender</td>\n",
       "      <td>Male</td>\n",
       "    </tr>\n",
       "    <tr>\n",
       "      <th>8</th>\n",
       "      <td>Score</td>\n",
       "      <td>70</td>\n",
       "    </tr>\n",
       "    <tr>\n",
       "      <th>9</th>\n",
       "      <td>Exam_Type</td>\n",
       "      <td>Pratical</td>\n",
       "    </tr>\n",
       "    <tr>\n",
       "      <th>10</th>\n",
       "      <td>Name</td>\n",
       "      <td>Mofe</td>\n",
       "    </tr>\n",
       "    <tr>\n",
       "      <th>11</th>\n",
       "      <td>Subject</td>\n",
       "      <td>Chemistry</td>\n",
       "    </tr>\n",
       "    <tr>\n",
       "      <th>12</th>\n",
       "      <td>Gender</td>\n",
       "      <td>Male</td>\n",
       "    </tr>\n",
       "    <tr>\n",
       "      <th>13</th>\n",
       "      <td>Score</td>\n",
       "      <td>20</td>\n",
       "    </tr>\n",
       "    <tr>\n",
       "      <th>14</th>\n",
       "      <td>Exam_Type</td>\n",
       "      <td>Pratical</td>\n",
       "    </tr>\n",
       "    <tr>\n",
       "      <th>15</th>\n",
       "      <td>Name</td>\n",
       "      <td>Mope</td>\n",
       "    </tr>\n",
       "    <tr>\n",
       "      <th>16</th>\n",
       "      <td>Subject</td>\n",
       "      <td>Physics</td>\n",
       "    </tr>\n",
       "    <tr>\n",
       "      <th>17</th>\n",
       "      <td>Gender</td>\n",
       "      <td>Female</td>\n",
       "    </tr>\n",
       "    <tr>\n",
       "      <th>18</th>\n",
       "      <td>Score</td>\n",
       "      <td>840</td>\n",
       "    </tr>\n",
       "    <tr>\n",
       "      <th>19</th>\n",
       "      <td>Exam_Type</td>\n",
       "      <td>Option</td>\n",
       "    </tr>\n",
       "    <tr>\n",
       "      <th>20</th>\n",
       "      <td>Name</td>\n",
       "      <td>Mosun</td>\n",
       "    </tr>\n",
       "    <tr>\n",
       "      <th>21</th>\n",
       "      <td>Subject</td>\n",
       "      <td>History</td>\n",
       "    </tr>\n",
       "    <tr>\n",
       "      <th>22</th>\n",
       "      <td>Gender</td>\n",
       "      <td>Female</td>\n",
       "    </tr>\n",
       "    <tr>\n",
       "      <th>23</th>\n",
       "      <td>Score</td>\n",
       "      <td>100</td>\n",
       "    </tr>\n",
       "    <tr>\n",
       "      <th>24</th>\n",
       "      <td>Exam_Type</td>\n",
       "      <td>Option</td>\n",
       "    </tr>\n",
       "  </tbody>\n",
       "</table>\n",
       "</div>"
      ],
      "text/plain": [
       "        Score  Exam_Type\n",
       "0        Name       Moyo\n",
       "1     Subject      Mathe\n",
       "2      Gender     Female\n",
       "3       Score         90\n",
       "4   Exam_Type     Theory\n",
       "5        Name      Moyin\n",
       "6     Subject    English\n",
       "7      Gender       Male\n",
       "8       Score         70\n",
       "9   Exam_Type   Pratical\n",
       "10       Name       Mofe\n",
       "11    Subject  Chemistry\n",
       "12     Gender       Male\n",
       "13      Score         20\n",
       "14  Exam_Type   Pratical\n",
       "15       Name       Mope\n",
       "16    Subject    Physics\n",
       "17     Gender     Female\n",
       "18      Score        840\n",
       "19  Exam_Type     Option\n",
       "20       Name      Mosun\n",
       "21    Subject    History\n",
       "22     Gender     Female\n",
       "23      Score        100\n",
       "24  Exam_Type     Option"
      ]
     },
     "execution_count": 57,
     "metadata": {},
     "output_type": "execute_result"
    }
   ],
   "source": [
    "dataF"
   ]
  },
  {
   "cell_type": "code",
   "execution_count": 68,
   "id": "fc3f0584-9e3b-4456-aa26-d3999f472757",
   "metadata": {},
   "outputs": [
    {
     "data": {
      "text/html": [
       "<div>\n",
       "<style scoped>\n",
       "    .dataframe tbody tr th:only-of-type {\n",
       "        vertical-align: middle;\n",
       "    }\n",
       "\n",
       "    .dataframe tbody tr th {\n",
       "        vertical-align: top;\n",
       "    }\n",
       "\n",
       "    .dataframe thead th {\n",
       "        text-align: right;\n",
       "    }\n",
       "</style>\n",
       "<table border=\"1\" class=\"dataframe\">\n",
       "  <thead>\n",
       "    <tr style=\"text-align: right;\">\n",
       "      <th></th>\n",
       "      <th>1</th>\n",
       "    </tr>\n",
       "    <tr>\n",
       "      <th>0</th>\n",
       "      <th></th>\n",
       "    </tr>\n",
       "  </thead>\n",
       "  <tbody>\n",
       "    <tr>\n",
       "      <th>Score</th>\n",
       "      <td>90</td>\n",
       "    </tr>\n",
       "    <tr>\n",
       "      <th>Score</th>\n",
       "      <td>70</td>\n",
       "    </tr>\n",
       "    <tr>\n",
       "      <th>Score</th>\n",
       "      <td>20</td>\n",
       "    </tr>\n",
       "    <tr>\n",
       "      <th>Score</th>\n",
       "      <td>840</td>\n",
       "    </tr>\n",
       "    <tr>\n",
       "      <th>Score</th>\n",
       "      <td>100</td>\n",
       "    </tr>\n",
       "    <tr>\n",
       "      <th>Exam_Type</th>\n",
       "      <td>Theory</td>\n",
       "    </tr>\n",
       "    <tr>\n",
       "      <th>Exam_Type</th>\n",
       "      <td>Pratical</td>\n",
       "    </tr>\n",
       "    <tr>\n",
       "      <th>Exam_Type</th>\n",
       "      <td>Pratical</td>\n",
       "    </tr>\n",
       "    <tr>\n",
       "      <th>Exam_Type</th>\n",
       "      <td>Option</td>\n",
       "    </tr>\n",
       "    <tr>\n",
       "      <th>Exam_Type</th>\n",
       "      <td>Option</td>\n",
       "    </tr>\n",
       "  </tbody>\n",
       "</table>\n",
       "</div>"
      ],
      "text/plain": [
       "                  1\n",
       "0                  \n",
       "Score            90\n",
       "Score            70\n",
       "Score            20\n",
       "Score           840\n",
       "Score           100\n",
       "Exam_Type    Theory\n",
       "Exam_Type  Pratical\n",
       "Exam_Type  Pratical\n",
       "Exam_Type    Option\n",
       "Exam_Type    Option"
      ]
     },
     "execution_count": 68,
     "metadata": {},
     "output_type": "execute_result"
    }
   ],
   "source": [
    "dataF = panda.DataFrame(frame)\n",
    "dataF.set_index(0, inplace=True)\n",
    "result = result.transpose()\n",
    "result = dataF.loc[['Score', 'Exam_Type']]\n",
    "result"
   ]
  },
  {
   "cell_type": "code",
   "execution_count": 69,
   "id": "f2d063d6-edf7-4899-9c52-5666ed45bcf2",
   "metadata": {},
   "outputs": [],
   "source": [
    "import pandas as pd\n",
    "import numpy as np"
   ]
  },
  {
   "cell_type": "code",
   "execution_count": 70,
   "id": "d0927338-0972-4336-9d98-15c05f460bfe",
   "metadata": {},
   "outputs": [
    {
     "name": "stdout",
     "output_type": "stream",
     "text": [
      "<class 'pandas.core.frame.DataFrame'>\n",
      "RangeIndex: 1885 entries, 0 to 1884\n",
      "Data columns (total 32 columns):\n",
      " #   Column     Non-Null Count  Dtype  \n",
      "---  ------     --------------  -----  \n",
      " 0   ID         1885 non-null   int64  \n",
      " 1   Age        1885 non-null   float64\n",
      " 2   Gender     1885 non-null   float64\n",
      " 3   Education  1885 non-null   float64\n",
      " 4   Country    1885 non-null   float64\n",
      " 5   Ethnicity  1885 non-null   float64\n",
      " 6   Nscore     1885 non-null   float64\n",
      " 7   Escore     1885 non-null   float64\n",
      " 8   Oscore     1885 non-null   float64\n",
      " 9   Ascore     1885 non-null   float64\n",
      " 10  Cscore     1885 non-null   float64\n",
      " 11  Impulsive  1885 non-null   float64\n",
      " 12  SS         1885 non-null   float64\n",
      " 13  Alcohol    1885 non-null   object \n",
      " 14  Amphet     1885 non-null   object \n",
      " 15  Amyl       1885 non-null   object \n",
      " 16  Benzos     1885 non-null   object \n",
      " 17  Caff       1885 non-null   object \n",
      " 18  Cannabis   1885 non-null   object \n",
      " 19  Choc       1885 non-null   object \n",
      " 20  Coke       1885 non-null   object \n",
      " 21  Crack      1885 non-null   object \n",
      " 22  Ecstasy    1885 non-null   object \n",
      " 23  Heroin     1885 non-null   object \n",
      " 24  Ketamine   1885 non-null   object \n",
      " 25  Legalh     1885 non-null   object \n",
      " 26  LSD        1885 non-null   object \n",
      " 27  Meth       1885 non-null   object \n",
      " 28  Mushrooms  1885 non-null   object \n",
      " 29  Nicotine   1885 non-null   object \n",
      " 30  Semer      1885 non-null   object \n",
      " 31  VSA        1885 non-null   object \n",
      "dtypes: float64(12), int64(1), object(19)\n",
      "memory usage: 471.4+ KB\n"
     ]
    }
   ],
   "source": [
    "df_drug = pd.read_csv('drug_consumption.csv')\n",
    "df_drug.info()\n"
   ]
  },
  {
   "cell_type": "code",
   "execution_count": 4,
   "id": "372c2fc8-af90-4c91-81e3-24e4c8776d60",
   "metadata": {},
   "outputs": [
    {
     "name": "stdout",
     "output_type": "stream",
     "text": [
      "Requirement already satisfied: mysql-connector-python in ./data/lib/python3.10/site-packages (8.3.0)\n",
      "Note: you may need to restart the kernel to use updated packages.\n"
     ]
    }
   ],
   "source": [
    "pip install mysql-connector-python"
   ]
  },
  {
   "cell_type": "code",
   "execution_count": 1,
   "id": "bc964271-ebe9-4d57-b633-99d21ded1ee5",
   "metadata": {},
   "outputs": [],
   "source": [
    "import mysql.connector as sql\n",
    "import pandas as pd"
   ]
  },
  {
   "cell_type": "code",
   "execution_count": 6,
   "id": "f35c94c2-46c0-469d-9a08-0f0465d87e86",
   "metadata": {},
   "outputs": [
    {
     "data": {
      "text/html": [
       "<div>\n",
       "<style scoped>\n",
       "    .dataframe tbody tr th:only-of-type {\n",
       "        vertical-align: middle;\n",
       "    }\n",
       "\n",
       "    .dataframe tbody tr th {\n",
       "        vertical-align: top;\n",
       "    }\n",
       "\n",
       "    .dataframe thead th {\n",
       "        text-align: right;\n",
       "    }\n",
       "</style>\n",
       "<table border=\"1\" class=\"dataframe\">\n",
       "  <thead>\n",
       "    <tr style=\"text-align: right;\">\n",
       "      <th></th>\n",
       "      <th>0</th>\n",
       "      <th>1</th>\n",
       "      <th>2</th>\n",
       "      <th>3</th>\n",
       "    </tr>\n",
       "  </thead>\n",
       "  <tbody>\n",
       "    <tr>\n",
       "      <th>0</th>\n",
       "      <td>75</td>\n",
       "      <td>3</td>\n",
       "      <td>break egg. bake egg. eat egg.</td>\n",
       "      <td>2015-09-05</td>\n",
       "    </tr>\n",
       "    <tr>\n",
       "      <th>1</th>\n",
       "      <td>88</td>\n",
       "      <td>4</td>\n",
       "      <td>wash strawberries. add ice. blend. enjoy.</td>\n",
       "      <td>2015-09-14</td>\n",
       "    </tr>\n",
       "    <tr>\n",
       "      <th>2</th>\n",
       "      <td>77</td>\n",
       "      <td>6</td>\n",
       "      <td>2 slices of bread. add cheese. grill. heaven.</td>\n",
       "      <td>2015-09-21</td>\n",
       "    </tr>\n",
       "    <tr>\n",
       "      <th>3</th>\n",
       "      <td>87</td>\n",
       "      <td>5</td>\n",
       "      <td>open and crush avocado. add shrimps. perfect s...</td>\n",
       "      <td>2015-09-22</td>\n",
       "    </tr>\n",
       "    <tr>\n",
       "      <th>4</th>\n",
       "      <td>49</td>\n",
       "      <td>1</td>\n",
       "      <td>nachos. add tomato sauce, minced meat and chee...</td>\n",
       "      <td>2015-09-22</td>\n",
       "    </tr>\n",
       "    <tr>\n",
       "      <th>5</th>\n",
       "      <td>24</td>\n",
       "      <td>7</td>\n",
       "      <td>just eat an apple. simply and healthy.</td>\n",
       "      <td>2015-09-24</td>\n",
       "    </tr>\n",
       "  </tbody>\n",
       "</table>\n",
       "</div>"
      ],
      "text/plain": [
       "    0  1                                                  2           3\n",
       "0  75  3                      break egg. bake egg. eat egg.  2015-09-05\n",
       "1  88  4          wash strawberries. add ice. blend. enjoy.  2015-09-14\n",
       "2  77  6      2 slices of bread. add cheese. grill. heaven.  2015-09-21\n",
       "3  87  5  open and crush avocado. add shrimps. perfect s...  2015-09-22\n",
       "4  49  1  nachos. add tomato sauce, minced meat and chee...  2015-09-22\n",
       "5  24  7             just eat an apple. simply and healthy.  2015-09-24"
      ]
     },
     "execution_count": 6,
     "metadata": {},
     "output_type": "execute_result"
    }
   ],
   "source": [
    "host = \"courses.csrrinzqubik.us-east-1.rds.amazonaws.com\"\n",
    "dt = sql.connect(host = host, port=\"3306\", database =\"tweater\", user =\"student\", password =\"datacamp\")\n",
    "\n",
    "db_cursor = dt.cursor()\n",
    "db_cursor.execute('SELECT * FROM tweats')\n",
    "\n",
    "table_rows = db_cursor.fetchall()\n",
    "df = pd.DataFrame(table_rows)\n",
    "df"
   ]
  },
  {
   "cell_type": "code",
   "execution_count": 11,
   "id": "be919696-6922-4724-b4d6-edb67da24d2a",
   "metadata": {},
   "outputs": [
    {
     "ename": "DatabaseError",
     "evalue": "2005 (HY000): Unknown MySQL server host 'car-simulation-station.c9az8e0qjbgo.us-east-1.rds.amazonaws.com' (-2)",
     "output_type": "error",
     "traceback": [
      "\u001b[0;31m---------------------------------------------------------------------------\u001b[0m",
      "\u001b[0;31mMySQLInterfaceError\u001b[0m                       Traceback (most recent call last)",
      "File \u001b[0;32m~/DataScienceProjects/data/lib/python3.10/site-packages/mysql/connector/connection_cext.py:323\u001b[0m, in \u001b[0;36mCMySQLConnection._open_connection\u001b[0;34m(self)\u001b[0m\n\u001b[1;32m    322\u001b[0m \u001b[38;5;28;01mtry\u001b[39;00m:\n\u001b[0;32m--> 323\u001b[0m     \u001b[38;5;28;43mself\u001b[39;49m\u001b[38;5;241;43m.\u001b[39;49m\u001b[43m_cmysql\u001b[49m\u001b[38;5;241;43m.\u001b[39;49m\u001b[43mconnect\u001b[49m\u001b[43m(\u001b[49m\u001b[38;5;241;43m*\u001b[39;49m\u001b[38;5;241;43m*\u001b[39;49m\u001b[43mcnx_kwargs\u001b[49m\u001b[43m)\u001b[49m\n\u001b[1;32m    324\u001b[0m     \u001b[38;5;28mself\u001b[39m\u001b[38;5;241m.\u001b[39m_cmysql\u001b[38;5;241m.\u001b[39mconverter_str_fallback \u001b[38;5;241m=\u001b[39m \u001b[38;5;28mself\u001b[39m\u001b[38;5;241m.\u001b[39m_converter_str_fallback\n",
      "\u001b[0;31mMySQLInterfaceError\u001b[0m: Unknown MySQL server host 'car-simulation-station.c9az8e0qjbgo.us-east-1.rds.amazonaws.com' (-2)",
      "\nThe above exception was the direct cause of the following exception:\n",
      "\u001b[0;31mDatabaseError\u001b[0m                             Traceback (most recent call last)",
      "Cell \u001b[0;32mIn[11], line 2\u001b[0m\n\u001b[1;32m      1\u001b[0m host \u001b[38;5;241m=\u001b[39m \u001b[38;5;124m\"\u001b[39m\u001b[38;5;124mcar-simulation-station.c9az8e0qjbgo.us-east-1.rds.amazonaws.com\u001b[39m\u001b[38;5;124m\"\u001b[39m\n\u001b[0;32m----> 2\u001b[0m data \u001b[38;5;241m=\u001b[39m \u001b[43msql\u001b[49m\u001b[38;5;241;43m.\u001b[39;49m\u001b[43mconnect\u001b[49m\u001b[43m(\u001b[49m\u001b[43mhost\u001b[49m\u001b[43m \u001b[49m\u001b[38;5;241;43m=\u001b[39;49m\u001b[43m \u001b[49m\u001b[43mhost\u001b[49m\u001b[43m,\u001b[49m\u001b[43m \u001b[49m\u001b[43mport\u001b[49m\u001b[38;5;241;43m=\u001b[39;49m\u001b[38;5;124;43m\"\u001b[39;49m\u001b[38;5;124;43m3306\u001b[39;49m\u001b[38;5;124;43m\"\u001b[39;49m\u001b[43m,\u001b[49m\u001b[43m \u001b[49m\u001b[43mdatabase\u001b[49m\u001b[43m \u001b[49m\u001b[38;5;241;43m=\u001b[39;49m\u001b[38;5;124;43m\"\u001b[39;49m\u001b[38;5;124;43mcar_simulation_station\u001b[39;49m\u001b[38;5;124;43m\"\u001b[39;49m\u001b[43m,\u001b[49m\u001b[43m \u001b[49m\u001b[43muser\u001b[49m\u001b[43m \u001b[49m\u001b[38;5;241;43m=\u001b[39;49m\u001b[38;5;124;43m\"\u001b[39;49m\u001b[38;5;124;43mdatacamp_user\u001b[39;49m\u001b[38;5;124;43m\"\u001b[39;49m\u001b[43m,\u001b[49m\u001b[43m \u001b[49m\u001b[43mpassword\u001b[49m\u001b[43m \u001b[49m\u001b[38;5;241;43m=\u001b[39;49m\u001b[38;5;124;43m\"\u001b[39;49m\u001b[38;5;124;43mlearn tabular data for fun and profit\u001b[39;49m\u001b[38;5;124;43m\"\u001b[39;49m\u001b[43m)\u001b[49m\n\u001b[1;32m      4\u001b[0m db_cursor \u001b[38;5;241m=\u001b[39m data\u001b[38;5;241m.\u001b[39mcursor()\n\u001b[1;32m      5\u001b[0m db_cursor\u001b[38;5;241m.\u001b[39mexecute(\u001b[38;5;124m'\u001b[39m\u001b[38;5;124mSELECT * FROM car_simulation_station\u001b[39m\u001b[38;5;124m'\u001b[39m)\n",
      "File \u001b[0;32m~/DataScienceProjects/data/lib/python3.10/site-packages/mysql/connector/pooling.py:322\u001b[0m, in \u001b[0;36mconnect\u001b[0;34m(*args, **kwargs)\u001b[0m\n\u001b[1;32m    319\u001b[0m         \u001b[38;5;28;01mraise\u001b[39;00m \u001b[38;5;167;01mImportError\u001b[39;00m(ERROR_NO_CEXT)\n\u001b[1;32m    321\u001b[0m \u001b[38;5;28;01mif\u001b[39;00m CMySQLConnection \u001b[38;5;129;01mand\u001b[39;00m \u001b[38;5;129;01mnot\u001b[39;00m use_pure:\n\u001b[0;32m--> 322\u001b[0m     \u001b[38;5;28;01mreturn\u001b[39;00m \u001b[43mCMySQLConnection\u001b[49m\u001b[43m(\u001b[49m\u001b[38;5;241;43m*\u001b[39;49m\u001b[43margs\u001b[49m\u001b[43m,\u001b[49m\u001b[43m \u001b[49m\u001b[38;5;241;43m*\u001b[39;49m\u001b[38;5;241;43m*\u001b[39;49m\u001b[43mkwargs\u001b[49m\u001b[43m)\u001b[49m\n\u001b[1;32m    323\u001b[0m \u001b[38;5;28;01mreturn\u001b[39;00m MySQLConnection(\u001b[38;5;241m*\u001b[39margs, \u001b[38;5;241m*\u001b[39m\u001b[38;5;241m*\u001b[39mkwargs)\n",
      "File \u001b[0;32m~/DataScienceProjects/data/lib/python3.10/site-packages/mysql/connector/connection_cext.py:140\u001b[0m, in \u001b[0;36mCMySQLConnection.__init__\u001b[0;34m(self, **kwargs)\u001b[0m\n\u001b[1;32m    138\u001b[0m \u001b[38;5;28;01mif\u001b[39;00m kwargs:\n\u001b[1;32m    139\u001b[0m     \u001b[38;5;28;01mtry\u001b[39;00m:\n\u001b[0;32m--> 140\u001b[0m         \u001b[38;5;28;43mself\u001b[39;49m\u001b[38;5;241;43m.\u001b[39;49m\u001b[43mconnect\u001b[49m\u001b[43m(\u001b[49m\u001b[38;5;241;43m*\u001b[39;49m\u001b[38;5;241;43m*\u001b[39;49m\u001b[43mkwargs\u001b[49m\u001b[43m)\u001b[49m\n\u001b[1;32m    141\u001b[0m     \u001b[38;5;28;01mexcept\u001b[39;00m \u001b[38;5;167;01mException\u001b[39;00m:\n\u001b[1;32m    142\u001b[0m         \u001b[38;5;28mself\u001b[39m\u001b[38;5;241m.\u001b[39mclose()\n",
      "File \u001b[0;32m~/DataScienceProjects/data/lib/python3.10/site-packages/mysql/connector/abstracts.py:1363\u001b[0m, in \u001b[0;36mMySQLConnectionAbstract.connect\u001b[0;34m(self, **kwargs)\u001b[0m\n\u001b[1;32m   1360\u001b[0m     \u001b[38;5;28mself\u001b[39m\u001b[38;5;241m.\u001b[39mconfig(\u001b[38;5;241m*\u001b[39m\u001b[38;5;241m*\u001b[39mkwargs)\n\u001b[1;32m   1362\u001b[0m \u001b[38;5;28mself\u001b[39m\u001b[38;5;241m.\u001b[39mdisconnect()\n\u001b[0;32m-> 1363\u001b[0m \u001b[38;5;28;43mself\u001b[39;49m\u001b[38;5;241;43m.\u001b[39;49m\u001b[43m_open_connection\u001b[49m\u001b[43m(\u001b[49m\u001b[43m)\u001b[49m\n\u001b[1;32m   1365\u001b[0m charset, collation \u001b[38;5;241m=\u001b[39m (\n\u001b[1;32m   1366\u001b[0m     kwargs\u001b[38;5;241m.\u001b[39mpop(\u001b[38;5;124m\"\u001b[39m\u001b[38;5;124mcharset\u001b[39m\u001b[38;5;124m\"\u001b[39m, \u001b[38;5;28;01mNone\u001b[39;00m),\n\u001b[1;32m   1367\u001b[0m     kwargs\u001b[38;5;241m.\u001b[39mpop(\u001b[38;5;124m\"\u001b[39m\u001b[38;5;124mcollation\u001b[39m\u001b[38;5;124m\"\u001b[39m, \u001b[38;5;28;01mNone\u001b[39;00m),\n\u001b[1;32m   1368\u001b[0m )\n\u001b[1;32m   1369\u001b[0m \u001b[38;5;28;01mif\u001b[39;00m charset \u001b[38;5;129;01mor\u001b[39;00m collation:\n",
      "File \u001b[0;32m~/DataScienceProjects/data/lib/python3.10/site-packages/mysql/connector/connection_cext.py:328\u001b[0m, in \u001b[0;36mCMySQLConnection._open_connection\u001b[0;34m(self)\u001b[0m\n\u001b[1;32m    326\u001b[0m         \u001b[38;5;28mself\u001b[39m\u001b[38;5;241m.\u001b[39mconverter\u001b[38;5;241m.\u001b[39mstr_fallback \u001b[38;5;241m=\u001b[39m \u001b[38;5;28mself\u001b[39m\u001b[38;5;241m.\u001b[39m_converter_str_fallback\n\u001b[1;32m    327\u001b[0m \u001b[38;5;28;01mexcept\u001b[39;00m MySQLInterfaceError \u001b[38;5;28;01mas\u001b[39;00m err:\n\u001b[0;32m--> 328\u001b[0m     \u001b[38;5;28;01mraise\u001b[39;00m get_mysql_exception(\n\u001b[1;32m    329\u001b[0m         msg\u001b[38;5;241m=\u001b[39merr\u001b[38;5;241m.\u001b[39mmsg, errno\u001b[38;5;241m=\u001b[39merr\u001b[38;5;241m.\u001b[39merrno, sqlstate\u001b[38;5;241m=\u001b[39merr\u001b[38;5;241m.\u001b[39msqlstate\n\u001b[1;32m    330\u001b[0m     ) \u001b[38;5;28;01mfrom\u001b[39;00m \u001b[38;5;21;01merr\u001b[39;00m\n\u001b[1;32m    332\u001b[0m \u001b[38;5;28mself\u001b[39m\u001b[38;5;241m.\u001b[39m_do_handshake()\n",
      "\u001b[0;31mDatabaseError\u001b[0m: 2005 (HY000): Unknown MySQL server host 'car-simulation-station.c9az8e0qjbgo.us-east-1.rds.amazonaws.com' (-2)"
     ]
    }
   ],
   "source": [
    "host = \"car-simulation-station.c9az8e0qjbgo.us-east-1.rds.amazonaws.com\"\n",
    "data = sql.connect(host = host, port=\"3306\", database =\"car_simulation_station\", user =\"datacamp_user\", password =\"learn tabular data for fun and profit\")\n",
    "\n",
    "db_cursor = data.cursor()\n",
    "db_cursor.execute('SELECT * FROM car_simulation_station')\n",
    "\n",
    "table_rows = db_cursor.fetchall()\n",
    "dataF = pd.DataFrame(table_rows)\n",
    "dataF"
   ]
  },
  {
   "cell_type": "code",
   "execution_count": 1,
   "id": "f1d1fd7c-d64a-4f32-b687-f7e2c7d4fe94",
   "metadata": {},
   "outputs": [
    {
     "name": "stdout",
     "output_type": "stream",
     "text": [
      "Requirement already satisfied: requests in ./data/lib/python3.10/site-packages (2.31.0)\n",
      "Requirement already satisfied: charset-normalizer<4,>=2 in ./data/lib/python3.10/site-packages (from requests) (3.3.2)\n",
      "Requirement already satisfied: idna<4,>=2.5 in ./data/lib/python3.10/site-packages (from requests) (3.6)\n",
      "Requirement already satisfied: urllib3<3,>=1.21.1 in ./data/lib/python3.10/site-packages (from requests) (2.2.1)\n",
      "Requirement already satisfied: certifi>=2017.4.17 in ./data/lib/python3.10/site-packages (from requests) (2024.2.2)\n",
      "Note: you may need to restart the kernel to use updated packages.\n"
     ]
    }
   ],
   "source": [
    "pip install requests"
   ]
  },
  {
   "cell_type": "code",
   "execution_count": 2,
   "id": "2befaa94-8d0c-425e-82fb-2c1040505299",
   "metadata": {},
   "outputs": [],
   "source": [
    "import requests\n",
    "import pandas as pd"
   ]
  },
  {
   "cell_type": "code",
   "execution_count": 8,
   "id": "06bb4f05-2c62-4bfb-a329-bf1e70f62cf3",
   "metadata": {},
   "outputs": [
    {
     "name": "stdout",
     "output_type": "stream",
     "text": [
      "200\n"
     ]
    },
    {
     "data": {
      "text/html": [
       "<div>\n",
       "<style scoped>\n",
       "    .dataframe tbody tr th:only-of-type {\n",
       "        vertical-align: middle;\n",
       "    }\n",
       "\n",
       "    .dataframe tbody tr th {\n",
       "        vertical-align: top;\n",
       "    }\n",
       "\n",
       "    .dataframe thead th {\n",
       "        text-align: right;\n",
       "    }\n",
       "</style>\n",
       "<table border=\"1\" class=\"dataframe\">\n",
       "  <thead>\n",
       "    <tr style=\"text-align: right;\">\n",
       "      <th></th>\n",
       "      <th>name</th>\n",
       "      <th>alt_name</th>\n",
       "      <th>slug</th>\n",
       "      <th>phone</th>\n",
       "      <th>secondary_phone</th>\n",
       "      <th>email</th>\n",
       "      <th>address</th>\n",
       "      <th>postcode</th>\n",
       "      <th>closed</th>\n",
       "      <th>country</th>\n",
       "      <th>...</th>\n",
       "      <th>charity.registration_id</th>\n",
       "      <th>charity.register_url</th>\n",
       "      <th>politics.parliamentary_constituency</th>\n",
       "      <th>politics.mp</th>\n",
       "      <th>politics.mp_party</th>\n",
       "      <th>politics.mp_parl_id</th>\n",
       "      <th>politics.ward</th>\n",
       "      <th>politics.district</th>\n",
       "      <th>politics.urls.self</th>\n",
       "      <th>politics.urls.html</th>\n",
       "    </tr>\n",
       "  </thead>\n",
       "  <tbody>\n",
       "    <tr>\n",
       "      <th>0</th>\n",
       "      <td>Chiltern Food Bank</td>\n",
       "      <td>None</td>\n",
       "      <td>chiltern</td>\n",
       "      <td>01494775668</td>\n",
       "      <td>None</td>\n",
       "      <td>info@chiltern.foodbank.org.uk</td>\n",
       "      <td>71 Broadway\\r\\nChesham\\r\\nBuckinghamshire\\r\\nH...</td>\n",
       "      <td>HP5 1BX</td>\n",
       "      <td>False</td>\n",
       "      <td>England</td>\n",
       "      <td>...</td>\n",
       "      <td>1146699</td>\n",
       "      <td>https://register-of-charities.charitycommissio...</td>\n",
       "      <td>Chesham and Amersham</td>\n",
       "      <td>Sarah Green</td>\n",
       "      <td>Liberal Democrats</td>\n",
       "      <td>4918.0</td>\n",
       "      <td>Chess Valley</td>\n",
       "      <td>Buckinghamshire</td>\n",
       "      <td>https://www.givefood.org.uk/api/2/constituency...</td>\n",
       "      <td>https://www.givefood.org.uk/needs/in/constitue...</td>\n",
       "    </tr>\n",
       "    <tr>\n",
       "      <th>1</th>\n",
       "      <td>Barrow Food Bank</td>\n",
       "      <td>None</td>\n",
       "      <td>barrow</td>\n",
       "      <td>01229343436</td>\n",
       "      <td>None</td>\n",
       "      <td>projectmanager@barrowfoodbank.co.uk</td>\n",
       "      <td>Abbey Road Baptist Church\\r\\nAbbey Road\\r\\nBar...</td>\n",
       "      <td>LA13 9BD</td>\n",
       "      <td>False</td>\n",
       "      <td>England</td>\n",
       "      <td>...</td>\n",
       "      <td>1152753</td>\n",
       "      <td>https://register-of-charities.charitycommissio...</td>\n",
       "      <td>Barrow and Furness</td>\n",
       "      <td>Simon Fell</td>\n",
       "      <td>Conservative</td>\n",
       "      <td>4744.0</td>\n",
       "      <td>Ormsgill and Parkside</td>\n",
       "      <td>Westmorland and Furness</td>\n",
       "      <td>https://www.givefood.org.uk/api/2/constituency...</td>\n",
       "      <td>https://www.givefood.org.uk/needs/in/constitue...</td>\n",
       "    </tr>\n",
       "    <tr>\n",
       "      <th>2</th>\n",
       "      <td>Noor Food Bank</td>\n",
       "      <td>None</td>\n",
       "      <td>noor</td>\n",
       "      <td>None</td>\n",
       "      <td>None</td>\n",
       "      <td>hello@noorfoodbank.co.uk</td>\n",
       "      <td>Noor Hall\\r\\nNoor St\\r\\nPreston\\r\\nPR1 1QS</td>\n",
       "      <td>PR1 1QS</td>\n",
       "      <td>False</td>\n",
       "      <td>England</td>\n",
       "      <td>...</td>\n",
       "      <td>None</td>\n",
       "      <td>None</td>\n",
       "      <td>Preston</td>\n",
       "      <td>Mark Hendrick</td>\n",
       "      <td>Labour Co-operative</td>\n",
       "      <td>473.0</td>\n",
       "      <td>St Matthew's</td>\n",
       "      <td>Preston</td>\n",
       "      <td>https://www.givefood.org.uk/api/2/constituency...</td>\n",
       "      <td>https://www.givefood.org.uk/needs/in/constitue...</td>\n",
       "    </tr>\n",
       "    <tr>\n",
       "      <th>3</th>\n",
       "      <td>Bradford on Avon Food Bank</td>\n",
       "      <td>None</td>\n",
       "      <td>bradford-on-avon</td>\n",
       "      <td>01225920748</td>\n",
       "      <td>None</td>\n",
       "      <td>boacommunityhub@gmail.com</td>\n",
       "      <td>The Hub @ BA15\\r\\nChurch Street\\r\\nBradford on...</td>\n",
       "      <td>BA15 1LS</td>\n",
       "      <td>False</td>\n",
       "      <td>England</td>\n",
       "      <td>...</td>\n",
       "      <td>1160807</td>\n",
       "      <td>https://register-of-charities.charitycommissio...</td>\n",
       "      <td>Chippenham</td>\n",
       "      <td>Michelle Donelan</td>\n",
       "      <td>Conservative</td>\n",
       "      <td>4530.0</td>\n",
       "      <td>Bradford-on-Avon South</td>\n",
       "      <td>Wiltshire</td>\n",
       "      <td>https://www.givefood.org.uk/api/2/constituency...</td>\n",
       "      <td>https://www.givefood.org.uk/needs/in/constitue...</td>\n",
       "    </tr>\n",
       "    <tr>\n",
       "      <th>4</th>\n",
       "      <td>Lions Food Hub Food Bank</td>\n",
       "      <td>None</td>\n",
       "      <td>lions-food-hub</td>\n",
       "      <td>02077400503</td>\n",
       "      <td>None</td>\n",
       "      <td>lionsfoodhub@gmail.com</td>\n",
       "      <td>Millwall Community Trust\\r\\nBolina Road\\r\\nSE1...</td>\n",
       "      <td>SE16 3LD</td>\n",
       "      <td>False</td>\n",
       "      <td>England</td>\n",
       "      <td>...</td>\n",
       "      <td>None</td>\n",
       "      <td>None</td>\n",
       "      <td>Lewisham, Deptford</td>\n",
       "      <td>Vicky Foxcroft</td>\n",
       "      <td>Labour</td>\n",
       "      <td>4491.0</td>\n",
       "      <td>New Cross Gate</td>\n",
       "      <td>Lewisham</td>\n",
       "      <td>https://www.givefood.org.uk/api/2/constituency...</td>\n",
       "      <td>https://www.givefood.org.uk/needs/in/constitue...</td>\n",
       "    </tr>\n",
       "  </tbody>\n",
       "</table>\n",
       "<p>5 rows × 27 columns</p>\n",
       "</div>"
      ],
      "text/plain": [
       "                         name alt_name              slug        phone  \\\n",
       "0          Chiltern Food Bank     None          chiltern  01494775668   \n",
       "1            Barrow Food Bank     None            barrow  01229343436   \n",
       "2              Noor Food Bank     None              noor         None   \n",
       "3  Bradford on Avon Food Bank     None  bradford-on-avon  01225920748   \n",
       "4    Lions Food Hub Food Bank     None    lions-food-hub  02077400503   \n",
       "\n",
       "  secondary_phone                                email  \\\n",
       "0            None        info@chiltern.foodbank.org.uk   \n",
       "1            None  projectmanager@barrowfoodbank.co.uk   \n",
       "2            None             hello@noorfoodbank.co.uk   \n",
       "3            None            boacommunityhub@gmail.com   \n",
       "4            None               lionsfoodhub@gmail.com   \n",
       "\n",
       "                                             address  postcode  closed  \\\n",
       "0  71 Broadway\\r\\nChesham\\r\\nBuckinghamshire\\r\\nH...   HP5 1BX   False   \n",
       "1  Abbey Road Baptist Church\\r\\nAbbey Road\\r\\nBar...  LA13 9BD   False   \n",
       "2         Noor Hall\\r\\nNoor St\\r\\nPreston\\r\\nPR1 1QS   PR1 1QS   False   \n",
       "3  The Hub @ BA15\\r\\nChurch Street\\r\\nBradford on...  BA15 1LS   False   \n",
       "4  Millwall Community Trust\\r\\nBolina Road\\r\\nSE1...  SE16 3LD   False   \n",
       "\n",
       "   country  ... charity.registration_id  \\\n",
       "0  England  ...                 1146699   \n",
       "1  England  ...                 1152753   \n",
       "2  England  ...                    None   \n",
       "3  England  ...                 1160807   \n",
       "4  England  ...                    None   \n",
       "\n",
       "                                charity.register_url  \\\n",
       "0  https://register-of-charities.charitycommissio...   \n",
       "1  https://register-of-charities.charitycommissio...   \n",
       "2                                               None   \n",
       "3  https://register-of-charities.charitycommissio...   \n",
       "4                                               None   \n",
       "\n",
       "  politics.parliamentary_constituency       politics.mp    politics.mp_party  \\\n",
       "0                Chesham and Amersham       Sarah Green    Liberal Democrats   \n",
       "1                  Barrow and Furness        Simon Fell         Conservative   \n",
       "2                             Preston     Mark Hendrick  Labour Co-operative   \n",
       "3                          Chippenham  Michelle Donelan         Conservative   \n",
       "4                  Lewisham, Deptford    Vicky Foxcroft               Labour   \n",
       "\n",
       "  politics.mp_parl_id           politics.ward        politics.district  \\\n",
       "0              4918.0            Chess Valley          Buckinghamshire   \n",
       "1              4744.0   Ormsgill and Parkside  Westmorland and Furness   \n",
       "2               473.0            St Matthew's                  Preston   \n",
       "3              4530.0  Bradford-on-Avon South                Wiltshire   \n",
       "4              4491.0          New Cross Gate                 Lewisham   \n",
       "\n",
       "                                  politics.urls.self  \\\n",
       "0  https://www.givefood.org.uk/api/2/constituency...   \n",
       "1  https://www.givefood.org.uk/api/2/constituency...   \n",
       "2  https://www.givefood.org.uk/api/2/constituency...   \n",
       "3  https://www.givefood.org.uk/api/2/constituency...   \n",
       "4  https://www.givefood.org.uk/api/2/constituency...   \n",
       "\n",
       "                                  politics.urls.html  \n",
       "0  https://www.givefood.org.uk/needs/in/constitue...  \n",
       "1  https://www.givefood.org.uk/needs/in/constitue...  \n",
       "2  https://www.givefood.org.uk/needs/in/constitue...  \n",
       "3  https://www.givefood.org.uk/needs/in/constitue...  \n",
       "4  https://www.givefood.org.uk/needs/in/constitue...  \n",
       "\n",
       "[5 rows x 27 columns]"
      ]
     },
     "execution_count": 8,
     "metadata": {},
     "output_type": "execute_result"
    }
   ],
   "source": [
    "response = requests.get(\"https://www.givefood.org.uk/api/2/foodbanks\")\n",
    "print(response.status_code)\n",
    "\n",
    "food_json = response.json()\n",
    "food_dataframe = pd.json_normalize(food_json)\n",
    "food_dataframe.shape\n",
    "\n",
    "food_dataframe.head()"
   ]
  },
  {
   "cell_type": "code",
   "execution_count": null,
   "id": "50a1f9f6-225a-4a12-852d-b69efc2e8b0b",
   "metadata": {},
   "outputs": [],
   "source": []
  }
 ],
 "metadata": {
  "kernelspec": {
   "display_name": "Python 3 (ipykernel)",
   "language": "python",
   "name": "python3"
  },
  "language_info": {
   "codemirror_mode": {
    "name": "ipython",
    "version": 3
   },
   "file_extension": ".py",
   "mimetype": "text/x-python",
   "name": "python",
   "nbconvert_exporter": "python",
   "pygments_lexer": "ipython3",
   "version": "3.10.12"
  }
 },
 "nbformat": 4,
 "nbformat_minor": 5
}
